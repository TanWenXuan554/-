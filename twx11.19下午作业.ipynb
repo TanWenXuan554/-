{
 "cells": [
  {
   "cell_type": "code",
   "execution_count": 13,
   "id": "081b3ebb-7e41-4e1c-aa40-57a32c10b529",
   "metadata": {},
   "outputs": [
    {
     "name": "stdout",
     "output_type": "stream",
     "text": [
      "Looking in indexes: https://pypi.tuna.tsinghua.edu.cn/simple\n",
      "Requirement already satisfied: torch in c:\\programdata\\anaconda3\\lib\\site-packages (2.5.1)\n",
      "Requirement already satisfied: networkx in c:\\programdata\\anaconda3\\lib\\site-packages (from torch) (2.8.4)\n",
      "Requirement already satisfied: jinja2 in c:\\programdata\\anaconda3\\lib\\site-packages (from torch) (2.11.3)\n",
      "Requirement already satisfied: typing-extensions>=4.8.0 in c:\\programdata\\anaconda3\\lib\\site-packages (from torch) (4.12.2)\n",
      "Requirement already satisfied: sympy==1.13.1 in c:\\programdata\\anaconda3\\lib\\site-packages (from torch) (1.13.1)\n",
      "Requirement already satisfied: filelock in c:\\programdata\\anaconda3\\lib\\site-packages (from torch) (3.6.0)\n",
      "Requirement already satisfied: fsspec in c:\\programdata\\anaconda3\\lib\\site-packages (from torch) (2022.7.1)\n",
      "Requirement already satisfied: mpmath<1.4,>=1.1.0 in c:\\programdata\\anaconda3\\lib\\site-packages (from sympy==1.13.1->torch) (1.2.1)\n",
      "Requirement already satisfied: MarkupSafe>=0.23 in c:\\programdata\\anaconda3\\lib\\site-packages (from jinja2->torch) (2.0.1)\n",
      "Note: you may need to restart the kernel to use updated packages.\n"
     ]
    }
   ],
   "source": [
    "pip install torch"
   ]
  },
  {
   "cell_type": "code",
   "execution_count": 15,
   "id": "9a10bd7c-4ea6-44a7-b6e3-32f9f52c2d57",
   "metadata": {},
   "outputs": [],
   "source": [
    "import torch"
   ]
  },
  {
   "cell_type": "code",
   "execution_count": 16,
   "id": "50f63998-543b-4113-8dff-afa537097a9d",
   "metadata": {},
   "outputs": [],
   "source": [
    "x1 = torch.tensor(0.0, requires_grad=True)\n",
    "x2 = torch.tensor(1.0, requires_grad=True)"
   ]
  },
  {
   "cell_type": "code",
   "execution_count": 17,
   "id": "c34d6b71-b5f3-4f70-8901-c577f1cddd90",
   "metadata": {},
   "outputs": [],
   "source": [
    "v_minus_1 = x1\n",
    "v0 = x2\n",
    "v1 = 1\n",
    "v3 = v_minus_1**2+2*v0+v1\n",
    "v4 = torch.sigmoid(v3)\n",
    "v5 = 4*v4+v1"
   ]
  },
  {
   "cell_type": "code",
   "execution_count": 18,
   "id": "2a0ea2d2-a0b6-4552-b9cd-281add02165b",
   "metadata": {},
   "outputs": [
    {
     "name": "stdout",
     "output_type": "stream",
     "text": [
      "tensor(2.)\n"
     ]
    }
   ],
   "source": [
    "v3.backward()\n",
    "print(x2.grad)"
   ]
  },
  {
   "cell_type": "code",
   "execution_count": 19,
   "id": "514b00fb-8ac1-4183-86ab-ca59c01f7d66",
   "metadata": {},
   "outputs": [],
   "source": [
    "if x1.grad is not None:\n",
    "    x1.grad.zero_()\n",
    "if x2.grad is not None:\n",
    "    x2.grad.zero_()\n",
    "v0.backward(retain_graph=True)"
   ]
  },
  {
   "cell_type": "code",
   "execution_count": 21,
   "id": "948be796-a279-4df6-874c-b19a415dcb4b",
   "metadata": {},
   "outputs": [
    {
     "name": "stdout",
     "output_type": "stream",
     "text": [
      "节点v_minus_1是x1的导数\n",
      "节点v0是x1的导数\n",
      "节点v1是x1的导数\n",
      "节点v3是x1的导数\n",
      "节点v4是x1的导数\n",
      "节点v5是x1的导数\n"
     ]
    }
   ],
   "source": [
    "node_dict = {\"v_minus_1\":v_minus_1,\"v0\":v0,\"v1\":v1,\"v3\":v3,\"v4\":v4,\"v5\":v5}\n",
    "for k in node_dict:\n",
    "    print(f\"节点{k}是x1的导数\")"
   ]
  },
  {
   "cell_type": "code",
   "execution_count": 25,
   "id": "f53c72be-87fe-4e0a-af2f-0f4f9df50655",
   "metadata": {},
   "outputs": [
    {
     "ename": "SyntaxError",
     "evalue": "invalid syntax (3414815009.py, line 8)",
     "output_type": "error",
     "traceback": [
      "\u001b[1;36m  File \u001b[1;32m\"C:\\Users\\Administrator\\AppData\\Local\\Temp\\ipykernel_14052\\3414815009.py\"\u001b[1;36m, line \u001b[1;32m8\u001b[0m\n\u001b[1;33m    print(f\"节点{k}对{var_name}的导数\"var_dict[var_name].grad)\u001b[0m\n\u001b[1;37m                                ^\u001b[0m\n\u001b[1;31mSyntaxError\u001b[0m\u001b[1;31m:\u001b[0m invalid syntax\n"
     ]
    }
   ],
   "source": [
    "node_dict = {\"v_minus_1\":v_minus_1,\"v0\":v0,\"v1\":v1,\"v3\":v3,\"v4\":v4,\"v5\":v5}\n",
    "var_dict = {\"x1\":x1,\"x2\":x2}\n",
    "for k in node_dict:\n",
    "    for var_name in var_dict:\n",
    "        if var_dict[var_name].grad is not None:\n",
    "            var_dict[var_name].grad.zero_()\n",
    "        node_dict[k].backward(retain_graph=True)\n",
    "        print(f\"节点{k}对{var_name}的导数\"var_dict[var_name].grad)"
   ]
  },
  {
   "cell_type": "code",
   "execution_count": null,
   "id": "2d8dd319-72b3-43b0-b47f-d77abfc879d9",
   "metadata": {},
   "outputs": [],
   "source": []
  }
 ],
 "metadata": {
  "kernelspec": {
   "display_name": "Python 3 (ipykernel)",
   "language": "python",
   "name": "python3"
  },
  "language_info": {
   "codemirror_mode": {
    "name": "ipython",
    "version": 3
   },
   "file_extension": ".py",
   "mimetype": "text/x-python",
   "name": "python",
   "nbconvert_exporter": "python",
   "pygments_lexer": "ipython3",
   "version": "3.9.13"
  }
 },
 "nbformat": 4,
 "nbformat_minor": 5
}
